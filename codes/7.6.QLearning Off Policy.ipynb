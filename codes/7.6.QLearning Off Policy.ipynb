{
 "cells": [
  {
   "cell_type": "code",
   "execution_count": 1,
   "id": "ac52e124-4a85-49ad-a7a8-d538951d70d0",
   "metadata": {},
   "outputs": [],
   "source": [
    "import numpy as np     #只需要下载numpy库即可\n",
    "import GridWorld_v2"
   ]
  },
  {
   "cell_type": "code",
   "execution_count": 2,
   "id": "02325b8c-eb8e-470f-bf36-9d7aa5d70452",
   "metadata": {},
   "outputs": [
    {
     "data": {
      "image/png": "[encoded data removed]",
      "text/plain": [
       "<Figure size 350x350 with 1 Axes>"
      ]
     },
     "metadata": {},
     "output_type": "display_data"
    }
   ],
   "source": [
    "rows = 5      #记得行数和列数这里要同步改\n",
    "columns = 5\n",
    "gridworld = GridWorld_v2.GridWorld_v2(forbidden_area_score=-10, score=1,desc = [\".....\",\".##..\",\"..#..\",\".#T#.\",\".#...\"]) \n",
    "gridworld.show()"
   ]
  },
  {
   "cell_type": "code",
   "execution_count": 3,
   "id": "cb5c9ed9-e3a8-42e1-9fa3-60815143ae25",
   "metadata": {},
   "outputs": [],
   "source": [
    "class Q_learning_off_policy:\n",
    "    def __init__(self,ncol,nrow,epsilon,alpha,gamma,n_action=5) -> None:\n",
    "        self.Q_table = np.zeros((nrow,ncol,n_action))\n",
    "        self.n_action = n_action\n",
    "        self.alpha = alpha\n",
    "        self.gamma = gamma\n",
    "        self.epsilon = epsilon\n",
    "        self.state_list = []\n",
    "        self.action_list = []\n",
    "        self.reward_list = []\n",
    "    \n",
    "    def take_action(self,state):\n",
    "        if np.random.random() < self.epsilon:\n",
    "            action = np.random.randint(0,5)\n",
    "        else:\n",
    "            action = np.argmax(self.Q_table[state[0],state[1]])\n",
    "        return action\n",
    "\n",
    "    def update(self,s0:tuple[int,int],a0,r,s1:tuple[int,int]):\n",
    "        td_error = r + self.gamma * self.Q_table[s1].max() - self.Q_table[s0[0],s0[1],a0]\n",
    "        self.Q_table[s0[0],s0[1],a0] += self.alpha * td_error\n",
    "\n",
    "    def update_epsilon(self,epsilon):\n",
    "        if self.epsilon > epsilon:\n",
    "            self.epsilon -= 0.001\n",
    "\n",
    "    def update_alpha(self,alpha):\n",
    "        if self.alpha > alpha:\n",
    "            self.alpha -= 0.0001"
   ]
  },
  {
   "cell_type": "code",
   "execution_count": 4,
   "id": "56d5f25b",
   "metadata": {},
   "outputs": [],
   "source": [
    "np.random.seed(0)\n",
    "n_step = 5\n",
    "alpha = 1\n",
    "epsilon = 0.2\n",
    "gamma = 0.9\n",
    "agent = Q_learning_off_policy(columns,rows,epsilon,alpha,gamma)\n",
    "num_episodes = 20000\n",
    "return_list = []"
   ]
  },
  {
   "cell_type": "code",
   "execution_count": 5,
   "id": "5defee9b-cf45-4d92-ba2b-a540cdcf4ab9",
   "metadata": {},
   "outputs": [
    {
     "data": {
      "image/png": "[encoded data removed]",
      "text/plain": [
       "<Figure size 350x350 with 1 Axes>"
      ]
     },
     "metadata": {},
     "output_type": "display_data"
    },
    {
     "name": "stdout",
     "output_type": "stream",
     "text": [
      "Episode 19900 return -19.0\n"
     ]
    }
   ],
   "source": [
    "for i in range(num_episodes):\n",
    "    episod_return = 0\n",
    "    state = gridworld.reset()\n",
    "    action = agent.take_action(state)\n",
    "    done = False\n",
    "    while not done:\n",
    "        action = agent.take_action(state)\n",
    "        next_state,reward,done = gridworld.step(state,action)\n",
    "        episod_return += reward\n",
    "        agent.update(state,action,reward,next_state)\n",
    "        state = next_state\n",
    "    return_list.append(episod_return)\n",
    "    if i % 100 == 0:\n",
    "        gridworld.show_policy(agent.Q_table.argmax(axis=2),step=False)\n",
    "        print(f\"Episode {i} return {episod_return}\")\n",
    "    # agent.update_alpha(0.01)"
   ]
  }
 ],
 "metadata": {
  "kernelspec": {
   "display_name": "Python 3 (ipykernel)",
   "language": "python",
   "name": "python3"
  },
  "language_info": {
   "codemirror_mode": {
    "name": "ipython",
    "version": 3
   },
   "file_extension": ".py",
   "mimetype": "text/x-python",
   "name": "python",
   "nbconvert_exporter": "python",
   "pygments_lexer": "ipython3",
   "version": "3.11.8"
  }
 },
 "nbformat": 4,
 "nbformat_minor": 5
}
