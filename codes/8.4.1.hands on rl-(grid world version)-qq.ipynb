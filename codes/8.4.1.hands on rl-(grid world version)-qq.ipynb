{
 "cells": [
  {
   "cell_type": "code",
   "execution_count": 1,
   "id": "5dd0d0e5-d13e-4bca-ace9-fdcc2868b184",
   "metadata": {},
   "outputs": [],
   "source": [
    "import random\n",
    "import numpy as np\n",
    "import collections\n",
    "from tqdm import tqdm\n",
    "import torch\n",
    "import torch.nn.functional as F\n",
    "import matplotlib.pyplot as plt\n",
    "import rl_utils\n",
    "import GridWorld_v4\n",
    "from draw import draw  # 绘图函数"
   ]
  },
  {
   "cell_type": "code",
   "execution_count": 2,
   "id": "adee35e5-10a3-4cb0-b198-de1c7bc0e294",
   "metadata": {},
   "outputs": [],
   "source": [
    "class ReplayBuffer:\n",
    "    \"\"\"经验回放池\"\"\"\n",
    "\n",
    "    def __init__(self, capacity):\n",
    "        self.buffer = set()\n",
    "        # self.buffer = collections.deque(maxlen=capacity)  # 队列,先进先出\n",
    "\n",
    "    def add(self, state, action, reward, next_state, done):  # 将数据加入buffer\n",
    "        # self.buffer.append((state, action, reward, next_state, done))\n",
    "        self.buffer.add((state, action, reward, next_state, done))\n",
    "\n",
    "    def sample(self, batch_size):  # 从buffer中采样数据,数量为batch_size\n",
    "        transitions = random.sample(self.buffer, batch_size)\n",
    "        state, action, reward, next_state, done = zip(*transitions)\n",
    "        return np.array(state), action, reward, np.array(next_state), done\n",
    "\n",
    "    def size(self):  # 目前buffer中数据的数量\n",
    "        return len(self.buffer)"
   ]
  },
  {
   "cell_type": "code",
   "execution_count": 3,
   "id": "6f732111-2a15-4c6f-bf82-1bf5ae0d5c98",
   "metadata": {},
   "outputs": [],
   "source": [
    "class Qnet(torch.nn.Module):\n",
    "    \"\"\"只有一层隐藏层的Q网络\"\"\"\n",
    "\n",
    "    def __init__(self, state_dim, hidden_dim, action_dim):\n",
    "        super(Qnet, self).__init__()\n",
    "        self.fc1 = torch.nn.Linear(state_dim, hidden_dim)\n",
    "        self.fc2 = torch.nn.Linear(hidden_dim, action_dim)\n",
    "\n",
    "    def forward(self, x):\n",
    "        x = F.relu(self.fc1(x))  # 隐藏层使用ReLU激活函数\n",
    "        return self.fc2(x)"
   ]
  },
  {
   "cell_type": "code",
   "execution_count": 4,
   "id": "d6b11fc2-28e6-49d0-ae8d-139373888d66",
   "metadata": {},
   "outputs": [],
   "source": [
    "class DQN:\n",
    "    \"\"\"DQN算法\"\"\"\n",
    "\n",
    "    def __init__(\n",
    "        self,\n",
    "        state_dim,\n",
    "        hidden_dim,\n",
    "        action_dim,\n",
    "        learning_rate,\n",
    "        gamma,\n",
    "        epsilon,\n",
    "        target_update,\n",
    "        device,\n",
    "    ):\n",
    "        self.action_dim = action_dim\n",
    "        self.q_net = Qnet(state_dim, hidden_dim, self.action_dim).to(device)  # Q网络\n",
    "        # 目标网络\n",
    "        self.target_q_net = Qnet(state_dim, hidden_dim, self.action_dim).to(device)\n",
    "        # 使用Adam优化器\n",
    "        self.optimizer = torch.optim.Adam(self.q_net.parameters(), lr=learning_rate)\n",
    "        self.gamma = gamma  # 折扣因子\n",
    "        self.epsilon = epsilon  # epsilon-贪婪策略\n",
    "        self.target_update = target_update  # 目标网络更新频率\n",
    "        self.count = 0  # 计数器,记录更新次数\n",
    "        self.device = device\n",
    "\n",
    "    def take_action(self, state):  # epsilon-贪婪策略采取动作\n",
    "        if np.random.random() < self.epsilon:\n",
    "            action = np.random.randint(self.action_dim)\n",
    "        else:\n",
    "            state = torch.tensor([state], dtype=torch.float).to(self.device)\n",
    "            # print(state)\n",
    "            action = self.q_net(state).argmax().item()\n",
    "            # print(action)\n",
    "        return action\n",
    "\n",
    "    def update(self, transition_dict):\n",
    "        states = torch.tensor(transition_dict[\"states\"], dtype=torch.float).to(\n",
    "            self.device\n",
    "        )\n",
    "        actions = torch.tensor(transition_dict[\"actions\"]).view(-1, 1).to(self.device)\n",
    "        rewards = (\n",
    "            torch.tensor(transition_dict[\"rewards\"], dtype=torch.float)\n",
    "            .view(-1, 1)\n",
    "            .to(self.device)\n",
    "        )\n",
    "        next_states = torch.tensor(\n",
    "            transition_dict[\"next_states\"], dtype=torch.float\n",
    "        ).to(self.device)\n",
    "        dones = (\n",
    "            torch.tensor(transition_dict[\"dones\"], dtype=torch.float)\n",
    "            .view(-1, 1)\n",
    "            .to(self.device)\n",
    "        )\n",
    "\n",
    "        q_values = self.q_net(states).gather(1, actions)  # Q值\n",
    "        # 下个状态的最大Q值\n",
    "        max_next_q_values = self.target_q_net(next_states).max(1)[0].view(-1, 1)\n",
    "        q_targets = rewards + self.gamma * max_next_q_values * (1 - dones)  # TD误差目标\n",
    "        dqn_loss = torch.mean(F.mse_loss(q_values, q_targets))  # 均方误差损失函数\n",
    "        self.optimizer.zero_grad()  # PyTorch中默认梯度会累积,这里需要显式将梯度置为0\n",
    "        dqn_loss.backward()  # 反向传播更新参数\n",
    "        self.optimizer.step()\n",
    "\n",
    "        if self.count % self.target_update == 0:\n",
    "            self.target_q_net.load_state_dict(self.q_net.state_dict())  # 更新目标网络\n",
    "        self.count += 1"
   ]
  },
  {
   "cell_type": "code",
   "execution_count": 5,
   "id": "f57a5614-9b55-4ce6-9553-10d7c8c498eb",
   "metadata": {},
   "outputs": [],
   "source": [
    "env_name = \"CartPole-v0\""
   ]
  },
  {
   "cell_type": "code",
   "execution_count": 6,
   "id": "03a6ac27-5b31-4f21-bcc8-e14e6317b2be",
   "metadata": {},
   "outputs": [
    {
     "name": "stdout",
     "output_type": "stream",
     "text": [
      "⬜️⬜️⬜️⬜️⬜️\n",
      "⬜️🚫🚫⬜️⬜️\n",
      "⬜️⬜️🚫⬜️⬜️\n",
      "⬜️🚫✅🚫⬜️\n",
      "⬜️🚫⬜️⬜️⬜️\n"
     ]
    }
   ],
   "source": [
    "rows = 5  # 记得行数和列数这里要同步改\n",
    "columns = 5\n",
    "env = GridWorld_v4.GridWorld_v4(\n",
    "    forbiddenAreaScore=-10, score=10, desc=[\".....\", \".##..\", \"..#..\", \".#T#.\", \".#...\"]\n",
    ")\n",
    "env.show()\n",
    "trajectorySteps = 1000"
   ]
  },
  {
   "cell_type": "code",
   "execution_count": 7,
   "id": "41905252-cbc7-492a-8194-6a9318811844",
   "metadata": {},
   "outputs": [
    {
     "name": "stderr",
     "output_type": "stream",
     "text": [
      "Iteration 0:   0%|          | 0/50 [00:00<?, ?it/s]"
     ]
    },
    {
     "name": "stdout",
     "output_type": "stream",
     "text": [
      "0\n"
     ]
    },
    {
     "name": "stderr",
     "output_type": "stream",
     "text": [
      "\n"
     ]
    },
    {
     "ename": "TypeError",
     "evalue": "Population must be a sequence.  For dicts or sets, use sorted(d).",
     "output_type": "error",
     "traceback": [
      "\u001b[0;31m---------------------------------------------------------------------------\u001b[0m",
      "\u001b[0;31mTypeError\u001b[0m                                 Traceback (most recent call last)",
      "Cell \u001b[0;32mIn[7], line 54\u001b[0m\n\u001b[1;32m     52\u001b[0m \u001b[38;5;66;03m# 当buffer数据的数量超过一定值后,才进行Q网络训练\u001b[39;00m\n\u001b[1;32m     53\u001b[0m \u001b[38;5;28;01mif\u001b[39;00m replay_buffer\u001b[38;5;241m.\u001b[39msize() \u001b[38;5;241m>\u001b[39m minimal_size:\n\u001b[0;32m---> 54\u001b[0m     b_s, b_a, b_r, b_ns, b_d \u001b[38;5;241m=\u001b[39m \u001b[43mreplay_buffer\u001b[49m\u001b[38;5;241;43m.\u001b[39;49m\u001b[43msample\u001b[49m\u001b[43m(\u001b[49m\u001b[43mbatch_size\u001b[49m\u001b[43m)\u001b[49m\n\u001b[1;32m     55\u001b[0m     transition_dict \u001b[38;5;241m=\u001b[39m {\n\u001b[1;32m     56\u001b[0m         \u001b[38;5;124m\"\u001b[39m\u001b[38;5;124mstates\u001b[39m\u001b[38;5;124m\"\u001b[39m: b_s,\n\u001b[1;32m     57\u001b[0m         \u001b[38;5;124m\"\u001b[39m\u001b[38;5;124mactions\u001b[39m\u001b[38;5;124m\"\u001b[39m: b_a,\n\u001b[0;32m   (...)\u001b[0m\n\u001b[1;32m     60\u001b[0m         \u001b[38;5;124m\"\u001b[39m\u001b[38;5;124mdones\u001b[39m\u001b[38;5;124m\"\u001b[39m: b_d,\n\u001b[1;32m     61\u001b[0m     }\n\u001b[1;32m     62\u001b[0m     agent\u001b[38;5;241m.\u001b[39mupdate(transition_dict)\n",
      "Cell \u001b[0;32mIn[2], line 13\u001b[0m, in \u001b[0;36mReplayBuffer.sample\u001b[0;34m(self, batch_size)\u001b[0m\n\u001b[1;32m     12\u001b[0m \u001b[38;5;28;01mdef\u001b[39;00m \u001b[38;5;21msample\u001b[39m(\u001b[38;5;28mself\u001b[39m, batch_size):  \u001b[38;5;66;03m# 从buffer中采样数据,数量为batch_size\u001b[39;00m\n\u001b[0;32m---> 13\u001b[0m     transitions \u001b[38;5;241m=\u001b[39m \u001b[43mrandom\u001b[49m\u001b[38;5;241;43m.\u001b[39;49m\u001b[43msample\u001b[49m\u001b[43m(\u001b[49m\u001b[38;5;28;43mself\u001b[39;49m\u001b[38;5;241;43m.\u001b[39;49m\u001b[43mbuffer\u001b[49m\u001b[43m,\u001b[49m\u001b[43m \u001b[49m\u001b[43mbatch_size\u001b[49m\u001b[43m)\u001b[49m\n\u001b[1;32m     14\u001b[0m     state, action, reward, next_state, done \u001b[38;5;241m=\u001b[39m \u001b[38;5;28mzip\u001b[39m(\u001b[38;5;241m*\u001b[39mtransitions)\n\u001b[1;32m     15\u001b[0m     \u001b[38;5;28;01mreturn\u001b[39;00m np\u001b[38;5;241m.\u001b[39marray(state), action, reward, np\u001b[38;5;241m.\u001b[39marray(next_state), done\n",
      "File \u001b[0;32m/opt/homebrew/Caskroom/miniconda/base/envs/deeplearning/lib/python3.11/random.py:439\u001b[0m, in \u001b[0;36mRandom.sample\u001b[0;34m(self, population, k, counts)\u001b[0m\n\u001b[1;32m    415\u001b[0m \u001b[38;5;66;03m# Sampling without replacement entails tracking either potential\u001b[39;00m\n\u001b[1;32m    416\u001b[0m \u001b[38;5;66;03m# selections (the pool) in a list or previous selections in a set.\u001b[39;00m\n\u001b[1;32m    417\u001b[0m \n\u001b[0;32m   (...)\u001b[0m\n\u001b[1;32m    435\u001b[0m \u001b[38;5;66;03m# too many calls to _randbelow(), making them slower and\u001b[39;00m\n\u001b[1;32m    436\u001b[0m \u001b[38;5;66;03m# causing them to eat more entropy than necessary.\u001b[39;00m\n\u001b[1;32m    438\u001b[0m \u001b[38;5;28;01mif\u001b[39;00m \u001b[38;5;129;01mnot\u001b[39;00m \u001b[38;5;28misinstance\u001b[39m(population, _Sequence):\n\u001b[0;32m--> 439\u001b[0m     \u001b[38;5;28;01mraise\u001b[39;00m \u001b[38;5;167;01mTypeError\u001b[39;00m(\u001b[38;5;124m\"\u001b[39m\u001b[38;5;124mPopulation must be a sequence.  \u001b[39m\u001b[38;5;124m\"\u001b[39m\n\u001b[1;32m    440\u001b[0m                     \u001b[38;5;124m\"\u001b[39m\u001b[38;5;124mFor dicts or sets, use sorted(d).\u001b[39m\u001b[38;5;124m\"\u001b[39m)\n\u001b[1;32m    441\u001b[0m n \u001b[38;5;241m=\u001b[39m \u001b[38;5;28mlen\u001b[39m(population)\n\u001b[1;32m    442\u001b[0m \u001b[38;5;28;01mif\u001b[39;00m counts \u001b[38;5;129;01mis\u001b[39;00m \u001b[38;5;129;01mnot\u001b[39;00m \u001b[38;5;28;01mNone\u001b[39;00m:\n",
      "\u001b[0;31mTypeError\u001b[0m: Population must be a sequence.  For dicts or sets, use sorted(d)."
     ]
    }
   ],
   "source": [
    "lr = 0.0015\n",
    "num_episodes = 500\n",
    "hidden_dim = 128\n",
    "gamma = 0.9\n",
    "# epsilon = 0.01\n",
    "epsilon = 1\n",
    "target_update = 10\n",
    "buffer_size = 10000\n",
    "minimal_size = 16\n",
    "batch_size = 8\n",
    "device = torch.device(\"cuda\") if torch.cuda.is_available() else torch.device(\"cpu\")\n",
    "\n",
    "\n",
    "random.seed(0)\n",
    "np.random.seed(0)\n",
    "# env.seed(0)\n",
    "torch.manual_seed(0)\n",
    "replay_buffer = ReplayBuffer(buffer_size)\n",
    "# state_dim = env.observation_space.shape[0]\n",
    "# action_dim = env.action_space.n\n",
    "\n",
    "state_dim = 2\n",
    "action_dim = 5\n",
    "agent = DQN(\n",
    "    state_dim, hidden_dim, action_dim, lr, gamma, epsilon, target_update, device\n",
    ")\n",
    "\n",
    "return_list = []\n",
    "for i in range(100):\n",
    "    with tqdm(total=int(num_episodes / 10), desc=\"Iteration %d\" % i) as pbar:\n",
    "        print(replay_buffer.size())\n",
    "        if epsilon > 0.05:\n",
    "            epsilon -= 0.005\n",
    "        agent.epsilon = epsilon\n",
    "        for i_episode in range(int(num_episodes / 10)):\n",
    "            episode_return = 0\n",
    "            state = env.reset()\n",
    "            done = False\n",
    "            while not done:\n",
    "                # print(1)\n",
    "                action = agent.take_action((state // 5, state % 5))\n",
    "                next_state, reward, done, _ = env.step(action)\n",
    "                replay_buffer.add(\n",
    "                    (state // 5, state % 5),\n",
    "                    action,\n",
    "                    reward,\n",
    "                    (next_state // 5, next_state % 5),\n",
    "                    done,\n",
    "                )\n",
    "                state = next_state\n",
    "                episode_return += reward\n",
    "                # 当buffer数据的数量超过一定值后,才进行Q网络训练\n",
    "                if replay_buffer.size() > minimal_size:\n",
    "                    b_s, b_a, b_r, b_ns, b_d = replay_buffer.sample(batch_size)\n",
    "                    transition_dict = {\n",
    "                        \"states\": b_s,\n",
    "                        \"actions\": b_a,\n",
    "                        \"next_states\": b_ns,\n",
    "                        \"rewards\": b_r,\n",
    "                        \"dones\": b_d,\n",
    "                    }\n",
    "                    agent.update(transition_dict)\n",
    "            # print(6)\n",
    "            return_list.append(episode_return)\n",
    "            if (i_episode + 1) % 10 == 0:\n",
    "                pbar.set_postfix(\n",
    "                    {\n",
    "                        \"episode\": \"%d\" % (num_episodes / 10 * i + i_episode + 1),\n",
    "                        \"return\": \"%.3f\" % np.mean(return_list[-10:]),\n",
    "                    }\n",
    "                )\n",
    "            pbar.update(1)\n",
    "\n",
    "    print(\"epsilon:\", epsilon)\n",
    "    s = np.array([[i, j] for i in range(5) for j in range(5)])\n",
    "    states = torch.tensor(s, dtype=torch.float32).to(device)\n",
    "\n",
    "    action_values = agent.target_q_net(states).cpu().view(-1, 5).detach().numpy()\n",
    "\n",
    "    greedy_policy = np.argmax(action_values, axis=1)\n",
    "\n",
    "    one_hot_policy = np.eye(5)[greedy_policy]  # 把传入的一维列表，转成二维one-hot型\n",
    "\n",
    "    # p1是目标方向的概率，p0是另外四个方向的概率\n",
    "    p1 = 1 - epsilon * (4 / 5)\n",
    "    p0 = epsilon / 5\n",
    "    d = {1: p1, 0: p0}\n",
    "    policy_epsilon = np.vectorize(d.get)(one_hot_policy)  # 生成一个epsilon的policy\n",
    "\n",
    "    state_values = np.sum(policy_epsilon * action_values, axis=1)\n",
    "\n",
    "    draw(state_values.reshape(5, 5), greedy_policy)"
   ]
  },
  {
   "cell_type": "code",
   "execution_count": null,
   "id": "c7a26ca9-6284-46ab-ad42-db1ac8c9a73b",
   "metadata": {},
   "outputs": [],
   "source": [
    "episodes_list = list(range(len(return_list)))\n",
    "plt.plot(episodes_list, return_list)\n",
    "plt.xlabel(\"Episodes\")\n",
    "plt.ylabel(\"Returns\")\n",
    "# plt.title('DQN on {}'.format(env_name))\n",
    "plt.show()\n",
    "\n",
    "mv_return = rl_utils.moving_average(return_list, 9)\n",
    "plt.plot(episodes_list, mv_return)\n",
    "plt.xlabel(\"Episodes\")\n",
    "plt.ylabel(\"Returns\")\n",
    "# plt.title('DQN on {}'.format(env_name))\n",
    "plt.show()"
   ]
  },
  {
   "cell_type": "code",
   "execution_count": null,
   "id": "a88b5082-5909-4a86-a4a1-3cf67997e55e",
   "metadata": {},
   "outputs": [],
   "source": [
    "s1 = set()"
   ]
  },
  {
   "cell_type": "code",
   "execution_count": null,
   "id": "81c0bc4f-9a2b-4b45-879e-539d53d9f262",
   "metadata": {},
   "outputs": [],
   "source": [
    "type(s1)"
   ]
  }
 ],
 "metadata": {
  "kernelspec": {
   "display_name": "Python 3 (ipykernel)",
   "language": "python",
   "name": "python3"
  },
  "language_info": {
   "codemirror_mode": {
    "name": "ipython",
    "version": 3
   },
   "file_extension": ".py",
   "mimetype": "text/x-python",
   "name": "python",
   "nbconvert_exporter": "python",
   "pygments_lexer": "ipython3",
   "version": "3.11.8"
  }
 },
 "nbformat": 4,
 "nbformat_minor": 5
}
