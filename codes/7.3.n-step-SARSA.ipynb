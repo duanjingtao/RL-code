{
 "cells": [
  {
   "cell_type": "code",
   "execution_count": 1,
   "id": "1cf583f4-f64e-4e36-b30e-1817ec400243",
   "metadata": {},
   "outputs": [],
   "source": [
    "import numpy as np     #只需要下载numpy库即可\n",
    "import random\n",
    "import GridWorld_v2\n",
    "import time\n",
    "from IPython.display import clear_output"
   ]
  },
  {
   "cell_type": "code",
   "execution_count": 2,
   "id": "541a7035-6a60-43be-b2dd-b444c48646d8",
   "metadata": {},
   "outputs": [
    {
     "data": {
      "image/png": "[encoded data removed]",
      "text/plain": [
       "<Figure size 350x350 with 1 Axes>"
      ]
     },
     "metadata": {},
     "output_type": "display_data"
    }
   ],
   "source": [
    "rows = 5      #记得行数和列数这里要同步改\n",
    "columns = 5\n",
    "gridworld = GridWorld_v2.GridWorld_v2(forbidden_area_score=-10, score=1,desc = [\".....\",\".##..\",\"..#..\",\".#T#.\",\".#...\"]) \n",
    "gridworld.show()"
   ]
  },
  {
   "cell_type": "code",
   "execution_count": 3,
   "id": "f3cdfdd7",
   "metadata": {},
   "outputs": [],
   "source": [
    "class N_step_Sarsa:\n",
    "    def __init__(self,n,ncol,nrow,epsilon,alpha,gamma,n_action=5) -> None:\n",
    "        self.Q_table = np.zeros((nrow,ncol,n_action))\n",
    "        self.n_action = n_action\n",
    "        self.alpha = alpha\n",
    "        self.gamma = gamma\n",
    "        self.epsilon = epsilon\n",
    "        self.n = n # n step\n",
    "        self.state_list = []\n",
    "        self.action_list = []\n",
    "        self.reward_list = []\n",
    "    \n",
    "    def take_action(self,state):\n",
    "        if np.random.random() < self.epsilon:\n",
    "            action = np.random.randint(0,5)\n",
    "        else:\n",
    "            action = np.argmax(self.Q_table[state[0],state[1]])\n",
    "        return action\n",
    "\n",
    "    def update(self,s0:tuple[int,int],a0,r,s1:tuple[int,int],a1,done):\n",
    "        self.state_list.append(s0)\n",
    "        self.action_list.append(a0)\n",
    "        self.reward_list.append(r)\n",
    "        if len(self.state_list) == self.n:\n",
    "            G = self.Q_table[s1[0],s1[1],a1]    \n",
    "            for i in reversed(range(self.n)):\n",
    "                G = self.gamma * G + self.reward_list[i]\n",
    "                # if state have arrived at the target, update the Q value\n",
    "                if done and i>0:\n",
    "                    s = self.state_list[i]\n",
    "                    a = self.action_list[i]\n",
    "                    self.Q_table[s[0],s[1],a] += self.alpha * (G - self.Q_table[s[0],s[1],a])\n",
    "            s = self.state_list.pop(0)\n",
    "            a = self.action_list.pop(0)\n",
    "            self.reward_list.pop(0)\n",
    "            self.Q_table[s[0],s[1],a] += self.alpha * (G - self.Q_table[s[0],s[1],a])\n",
    "        if done:\n",
    "            self.state_list = []\n",
    "            self.action_list = []\n",
    "            self.reward_list = []\n",
    "\n",
    "    def update_epsilon(self,epsilon):\n",
    "        if self.epsilon > epsilon:\n",
    "            self.epsilon -= 0.001\n",
    "\n",
    "    def update_alpha(self,alpha):\n",
    "        if self.alpha > alpha:\n",
    "            self.alpha -= 0.0001"
   ]
  },
  {
   "cell_type": "code",
   "execution_count": 4,
   "id": "9106e6ee-ba75-4ed4-987e-31f6192c58b2",
   "metadata": {},
   "outputs": [],
   "source": [
    "np.random.seed(0)\n",
    "n_step = 5\n",
    "alpha = 1\n",
    "epsilon = 0.5\n",
    "gamma = 0.9\n",
    "agent = N_step_Sarsa(n_step,columns,rows,epsilon,alpha,gamma)\n",
    "num_episodes = 80000\n",
    "return_list = []"
   ]
  },
  {
   "cell_type": "code",
   "execution_count": 5,
   "id": "a7949e5e",
   "metadata": {},
   "outputs": [
    {
     "data": {
      "image/png": "[encoded data removed]",
      "text/plain": [
       "<Figure size 350x350 with 1 Axes>"
      ]
     },
     "metadata": {},
     "output_type": "display_data"
    },
    {
     "name": "stdout",
     "output_type": "stream",
     "text": [
      "Episode 32400 return 1.0\n"
     ]
    },
    {
     "ename": "KeyboardInterrupt",
     "evalue": "",
     "output_type": "error",
     "traceback": [
      "\u001b[0;31m---------------------------------------------------------------------------\u001b[0m",
      "\u001b[0;31mKeyboardInterrupt\u001b[0m                         Traceback (most recent call last)",
      "Cell \u001b[0;32mIn[5], line 17\u001b[0m\n\u001b[1;32m     15\u001b[0m     gridworld\u001b[38;5;241m.\u001b[39mshow_policy(agent\u001b[38;5;241m.\u001b[39mQ_table\u001b[38;5;241m.\u001b[39margmax(axis\u001b[38;5;241m=\u001b[39m\u001b[38;5;241m2\u001b[39m),step\u001b[38;5;241m=\u001b[39m\u001b[38;5;28;01mFalse\u001b[39;00m)\n\u001b[1;32m     16\u001b[0m     \u001b[38;5;28mprint\u001b[39m(\u001b[38;5;124mf\u001b[39m\u001b[38;5;124m\"\u001b[39m\u001b[38;5;124mEpisode \u001b[39m\u001b[38;5;132;01m{\u001b[39;00mi\u001b[38;5;132;01m}\u001b[39;00m\u001b[38;5;124m return \u001b[39m\u001b[38;5;132;01m{\u001b[39;00mepisod_return\u001b[38;5;132;01m}\u001b[39;00m\u001b[38;5;124m\"\u001b[39m)\n\u001b[0;32m---> 17\u001b[0m     time\u001b[38;5;241m.\u001b[39msleep(\u001b[38;5;241m0.1\u001b[39m)\n\u001b[1;32m     18\u001b[0m agent\u001b[38;5;241m.\u001b[39mupdate_epsilon(\u001b[38;5;241m0.01\u001b[39m)\n\u001b[1;32m     19\u001b[0m agent\u001b[38;5;241m.\u001b[39mupdate_alpha(\u001b[38;5;241m0.01\u001b[39m)\n",
      "\u001b[0;31mKeyboardInterrupt\u001b[0m: "
     ]
    }
   ],
   "source": [
    "for i in range(num_episodes):\n",
    "    episod_return = 0\n",
    "    state = gridworld.reset((0,0))\n",
    "    action = agent.take_action(state)\n",
    "    done = False\n",
    "    while not done:\n",
    "        next_state,reward,done = gridworld.step(state,action)\n",
    "        next_action = agent.take_action(next_state)\n",
    "        episod_return += reward\n",
    "        agent.update(state,action,reward,next_state,next_action,done)\n",
    "        state = next_state\n",
    "        action = next_action\n",
    "    return_list.append(episod_return)\n",
    "    if i % 100 == 0:\n",
    "        gridworld.show_policy(agent.Q_table.argmax(axis=2),step=False)\n",
    "        print(f\"Episode {i} return {episod_return}\")\n",
    "        time.sleep(0.1)\n",
    "    agent.update_epsilon(0.01)\n",
    "    agent.update_alpha(0.01)"
   ]
  }
 ],
 "metadata": {
  "kernelspec": {
   "display_name": "Python 3 (ipykernel)",
   "language": "python",
   "name": "python3"
  },
  "language_info": {
   "codemirror_mode": {
    "name": "ipython",
    "version": 3
   },
   "file_extension": ".py",
   "mimetype": "text/x-python",
   "name": "python",
   "nbconvert_exporter": "python",
   "pygments_lexer": "ipython3",
   "version": "3.11.8"
  }
 },
 "nbformat": 4,
 "nbformat_minor": 5
}
