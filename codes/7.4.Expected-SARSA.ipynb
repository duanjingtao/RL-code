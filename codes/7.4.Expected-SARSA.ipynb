{
 "cells": [
  {
   "cell_type": "code",
   "execution_count": 1,
   "id": "c9b925e2-4e54-4467-a62c-c5c3c0c03a9f",
   "metadata": {},
   "outputs": [],
   "source": [
    "import numpy as np     #只需要下载numpy库即可\n",
    "import random\n",
    "import GridWorld_v2\n",
    "import time\n",
    "from IPython.display import clear_output"
   ]
  },
  {
   "cell_type": "code",
   "execution_count": 2,
   "id": "80940075-9a39-4ccc-a524-db6fb8a04e6e",
   "metadata": {},
   "outputs": [
    {
     "data": {
      "image/png": "[encoded data removed]",
      "text/plain": [
       "<Figure size 350x350 with 1 Axes>"
      ]
     },
     "metadata": {},
     "output_type": "display_data"
    }
   ],
   "source": [
    "rows = 5      #记得行数和列数这里要同步改\n",
    "columns = 5\n",
    "gridworld = GridWorld_v2.GridWorld_v2(forbidden_area_score=-10, score=1,desc = [\".....\",\".##..\",\"..#..\",\".#T#.\",\".#...\"]) \n",
    "gridworld.show()"
   ]
  },
  {
   "cell_type": "code",
   "execution_count": 3,
   "id": "a89e0ac5",
   "metadata": {},
   "outputs": [],
   "source": [
    "value = np.zeros(rows*columns).reshape(rows,columns)       #初始化可以任意，也可以全0\n",
    "q_table = np.zeros((rows*columns,5)).reshape(rows,columns,5)  #初始化，这里主要是初始化维数，里面的内容会被覆盖所以无所谓"
   ]
  },
  {
   "cell_type": "code",
   "execution_count": 4,
   "id": "ac45c662",
   "metadata": {},
   "outputs": [],
   "source": [
    "def take_action(state,epsilon):\n",
    "    if np.random.random() < epsilon:\n",
    "        action = np.random.randint(0,5)\n",
    "    else:\n",
    "        action = np.argmax(q_table[state[0],state[1]])\n",
    "    return action"
   ]
  },
  {
   "cell_type": "code",
   "execution_count": 5,
   "id": "b911a060-21d5-4de2-8a7e-83a82ddb7547",
   "metadata": {},
   "outputs": [],
   "source": [
    "def expect_sarsa(gridworld:GridWorld_v2.GridWorld_v2,gamma = 0.99,trajectorySteps=-1, learning_rate=0.001, final_epsilon=0.01, num_episodes=600)->GridWorld_v2.GridWorld_v2:\n",
    "    \"\"\"\n",
    "    这是最基础的SARSA算法\n",
    "\n",
    "    Parameters:\n",
    "    trajectorySteps (int): 寻路的轨迹长度，如果是-1，则为寻到目的则停止，否则参数即为trajectory长度\n",
    "    learning_rate (float): 学习率，用于调节TD-target\n",
    "    epsilon (float): epsilon-greedy的核心参数，0~1的浮点数，其中1则表示当前state所有决策概率一样，0则表示决策没有任何的随机性\n",
    "    num_episodes (int): 表示模型迭代次数\n",
    "\n",
    "    Returns:\n",
    "    GridWorld_v2.GridWorld_v2: 把模型返回回去\n",
    "    \"\"\"\n",
    "    \n",
    "    state_value = np.zeros((rows * columns)).reshape(gridworld.rows,gridworld.columns)\n",
    "    # initialize q table\n",
    "    # initialize policy\n",
    "    policy = np.eye(5)[np.random.randint(0,5,size=(rows*columns))].reshape(gridworld.rows,gridworld.columns,5) \n",
    "    epsilon = 0.5\n",
    "    for episode in range(1000):\n",
    "        #清除输出，可以更好的展示策略\n",
    "        print(\"episode\",f\"{episode}/{num_episodes}\")\n",
    "        if(epsilon > final_epsilon) :\n",
    "            epsilon -= 0.001\n",
    "        else:\n",
    "            epsilon = final_epsilon\n",
    "\n",
    "        #cnt数组用来检查每个state有多少次访问\n",
    "        \n",
    "        # initialize state\n",
    "        init_state=(0,0)\n",
    "        init_action=random.randint(0,4)  \n",
    "        print(\"init_state\",init_state)\n",
    "        print(\"init_action\",init_action)\n",
    "        reward = 0\n",
    "        next_state = init_state\n",
    "        next_action = init_action\n",
    "\n",
    "        while(reward != 1):\n",
    "        # get next state and reward\n",
    "\n",
    "            now_state = next_state\n",
    "            now_action = next_action\n",
    "            reward,next_state = gridworld.step(now_state,now_action)\n",
    "            next_action = take_action(next_state,epsilon)\n",
    "            td_target = reward + gamma * (q_table[next_state[0],next_state[1]] )\n",
    "            td_error = q_table[now_state[0],now_state[1],now_action] - td_target\n",
    "            q_table[now_state[0],now_state[1],now_action] -= learning_rate * td_error\n",
    "            if reward == 1:\n",
    "                now_action = 4\n",
    "                now_state = next_state\n",
    "                td_target = 1 + gamma * (q_table[now_state[0],now_state[1]].mean() )\n",
    "                td_error = q_table[now_state[0],now_state[1],now_action] - td_target\n",
    "                q_table[now_state[0],now_state[1],now_action] -= learning_rate * td_error\n",
    "\n",
    "    \n",
    "        policy = q_table.argmax(axis=2)\n",
    "        state_value = np.max(q_table,axis=2)\n",
    "\n",
    "        # print(\"mean_state_value\", mean_state_value)\n",
    "\n",
    "    gridworld.show_policy(policy,step=False)\n",
    "    gridworld.show_value(state_value)\n",
    "    print(state_value.shape)\n",
    "    return q_table\n",
    "    "
   ]
  },
  {
   "cell_type": "code",
   "execution_count": 6,
   "id": "3ae4fea5-8d79-4dd0-bec1-2c9b4334d388",
   "metadata": {},
   "outputs": [
    {
     "name": "stdout",
     "output_type": "stream",
     "text": [
      "episode 0/600\n",
      "init_state (0, 0)\n",
      "init_action 1\n"
     ]
    },
    {
     "ename": "ValueError",
     "evalue": "too many values to unpack (expected 2)",
     "output_type": "error",
     "traceback": [
      "\u001b[0;31m---------------------------------------------------------------------------\u001b[0m",
      "\u001b[0;31mValueError\u001b[0m                                Traceback (most recent call last)",
      "Cell \u001b[0;32mIn[6], line 1\u001b[0m\n\u001b[0;32m----> 1\u001b[0m \u001b[43mexpect_sarsa\u001b[49m\u001b[43m(\u001b[49m\u001b[43mgridworld\u001b[49m\u001b[43m)\u001b[49m\n",
      "Cell \u001b[0;32mIn[5], line 44\u001b[0m, in \u001b[0;36mexpect_sarsa\u001b[0;34m(gridworld, gamma, trajectorySteps, learning_rate, final_epsilon, num_episodes)\u001b[0m\n\u001b[1;32m     42\u001b[0m now_state \u001b[38;5;241m=\u001b[39m next_state\n\u001b[1;32m     43\u001b[0m now_action \u001b[38;5;241m=\u001b[39m next_action\n\u001b[0;32m---> 44\u001b[0m reward,next_state \u001b[38;5;241m=\u001b[39m gridworld\u001b[38;5;241m.\u001b[39mstep(now_state,now_action)\n\u001b[1;32m     45\u001b[0m next_action \u001b[38;5;241m=\u001b[39m take_action(next_state,epsilon)\n\u001b[1;32m     46\u001b[0m td_target \u001b[38;5;241m=\u001b[39m reward \u001b[38;5;241m+\u001b[39m gamma \u001b[38;5;241m*\u001b[39m (q_table[next_state[\u001b[38;5;241m0\u001b[39m],next_state[\u001b[38;5;241m1\u001b[39m]] )\n",
      "\u001b[0;31mValueError\u001b[0m: too many values to unpack (expected 2)"
     ]
    }
   ],
   "source": [
    "expect_sarsa(gridworld)"
   ]
  },
  {
   "cell_type": "code",
   "execution_count": null,
   "id": "6253a6e8-4f14-46ea-bcc8-1853258a9d69",
   "metadata": {},
   "outputs": [],
   "source": []
  }
 ],
 "metadata": {
  "kernelspec": {
   "display_name": "Python 3 (ipykernel)",
   "language": "python",
   "name": "python3"
  },
  "language_info": {
   "codemirror_mode": {
    "name": "ipython",
    "version": 3
   },
   "file_extension": ".py",
   "mimetype": "text/x-python",
   "name": "python",
   "nbconvert_exporter": "python",
   "pygments_lexer": "ipython3",
   "version": "3.11.8"
  }
 },
 "nbformat": 4,
 "nbformat_minor": 5
}
