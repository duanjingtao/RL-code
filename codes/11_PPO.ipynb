{
 "cells": [
  {
   "cell_type": "code",
   "execution_count": 1,
   "metadata": {},
   "outputs": [],
   "source": [
    "import random\n",
    "import numpy as np\n",
    "import torch\n",
    "import torch.nn as nn\n",
    "import torch.nn.functional as F\n",
    "from GridWorld_v1 import GridWorld_v1"
   ]
  },
  {
   "cell_type": "markdown",
   "metadata": {},
   "source": []
  },
  {
   "cell_type": "code",
   "execution_count": 2,
   "metadata": {},
   "outputs": [
    {
     "data": {
      "image/png": "[encoded data removed]",
      "text/plain": [
       "<Figure size 350x350 with 1 Axes>"
      ]
     },
     "metadata": {},
     "output_type": "display_data"
    }
   ],
   "source": [
    "desc = rows = 5  # 记得行数和列数这里要同步改\n",
    "columns = 5\n",
    "desc = [\".....\",\".##..\",\"..#..\",\".#T#.\",\".#...\"]\n",
    "\n",
    "gridworld = GridWorld_v1(forbidden_area_score=-1, score=1,desc=desc) \n",
    "print(gridworld.animator.fig.get_facecolor())\n",
    "gridworld.show()"
   ]
  },
  {
   "cell_type": "code",
   "execution_count": null,
   "metadata": {},
   "outputs": [],
   "source": [
    "def compute_advantage(gamma:int,lmbda:int,td_delta:torch.Tensor):\n",
    "    td_delta = td_delta.detach().numpy\n",
    "    advantage_list = []\n",
    "    advantage = 0\n",
    "    for delta in td_delta[::-1]:\n",
    "        advantage = gamma * lmbda *advantage+delta\n",
    "        advantage_list.append(advantage_list)\n",
    "    advantage_list.reverse()\n",
    "    return torch.tensor(advantage_list,dtype=torch.float)"
   ]
  },
  {
   "cell_type": "code",
   "execution_count": null,
   "metadata": {},
   "outputs": [],
   "source": [
    "class ValueNet(torch.nn.Module):\n",
    "    \"\"\"只有一层隐藏层的Q网络\"\"\"\n",
    "\n",
    "    def __init__(self,state_dim,hidden_dim):\n",
    "        super().__init__()\n",
    "        self.fc1 = torch.nn.Linear(state_dim, hidden_dim)\n",
    "        self.fc2 = torch.nn.Linear(hidden_dim, 1)\n",
    "\n",
    "    def forward(self, x):\n",
    "        x = F.relu(self.fc1(x))  # 隐藏层使用ReLU激活函数\n",
    "        return self.fc2(x)"
   ]
  },
  {
   "cell_type": "code",
   "execution_count": null,
   "metadata": {},
   "outputs": [],
   "source": [
    "class PolicyNet(torch.nn.Module):\n",
    "    \"\"\"只有一层隐藏层的Q网络\"\"\"\n",
    "\n",
    "    def __init__(self,state_dim,hidden_dim,action_dim):\n",
    "        super().__init__()\n",
    "        self.fc1 = torch.nn.Linear(state_dim, hidden_dim)\n",
    "        self.fc2 = torch.nn.Linear(hidden_dim, action_dim)\n",
    "\n",
    "    def forward(self, x):\n",
    "        x = F.relu(self.fc1(x))  # 隐藏层使用ReLU激活函数\n",
    "        x = F.relu(self.fc2(x))\n",
    "        return F.softmax(x,dim=1)  # 输出层不使用激活函数"
   ]
  },
  {
   "cell_type": "code",
   "execution_count": null,
   "metadata": {},
   "outputs": [],
   "source": [
    "class PPO:\n",
    "    d"
   ]
  },
  {
   "cell_type": "code",
   "execution_count": 106,
   "metadata": {},
   "outputs": [],
   "source": [
    "class ActorCritic:\n",
    "    def __init__(\n",
    "        self,\n",
    "        state_dim,\n",
    "        action_dim,\n",
    "        hidden_dim,\n",
    "        learning_rate,\n",
    "        critic_rate,\n",
    "        gamma,\n",
    "        device,\n",
    "    ) -> None:\n",
    "        self.action_dim = action_dim\n",
    "        self.policy_net = PolicyNet(state_dim, action_dim).to(device)\n",
    "        self.value_net = ValueNet(state_dim,hidden_dim)\n",
    "\n",
    "        self.actor_optimizer = torch.optim.Adam(self.policy_net.parameters(), lr=learning_rate)\n",
    "        self.critic_optimizer = torch.optim.Adam(self.value_net.parameters(), lr=critic_rate)\n",
    "        self.device = device\n",
    "        self.gamma = gamma\n",
    "\n",
    "    def take_action(self, state:tuple[ int,int ]):\n",
    "        state = torch.tensor([state], dtype=torch.float32).to(self.device)\n",
    "        probs = self.policy_net(state)\n",
    "        action_dist  = torch.distributions.Categorical(probs)\n",
    "        action = action_dist.sample()\n",
    "        return action.item()\n",
    "\n",
    "    def update(self, transiton_dict):\n",
    "        reward_list = transiton_dict[\"rewards\"]\n",
    "        state_list = transiton_dict[\"states\"]\n",
    "        action_list = transiton_dict[\"actions\"]\n",
    "        G = 0\n",
    "        states = torch.tensor(state_list, dtype=torch.float32).to(self.device)\n",
    "        actions = torch.tensor(action_list).view(-1,1).to(self.device)\n",
    "        next_states = torch.tensor(transiton_dict[\"next_states\"], dtype=torch.float32).to(self.device)\n",
    "        rewards = torch.tensor(reward_list,dtype=torch.float32).view(-1,1).to(self.device)\n",
    "        dones = torch.tensor(transiton_dict[\"dones\"], dtype=torch.float32).view(-1,1).to(self.device)\n",
    "        # print(f\"{states.shape=}\")\n",
    "        # print(f\"{actions.shape=}\")\n",
    "        # print(f\"{next_states.shape=}\")\n",
    "        # print(f\"{rewards.shape=}\")\n",
    "\n",
    "        td_target = rewards+self.gamma*self.value_net(next_states)*(1-dones)\n",
    "        # print(f\"{td_target.shape=}\")\n",
    "        td_delta = td_target - self.value_net(states)\n",
    "        # td_delta = -td_target + self.value_net(states)\n",
    "        action_pros = self.policy_net(states)\n",
    "        log_probs = torch.log(action_pros.gather( 1,actions ))\n",
    "        actor_loss = torch.mean(-log_probs*td_delta.detach())\n",
    "        critic_loss = torch.mean(F.mse_loss(self.value_net(states),td_target.detach()))\n",
    "        self.actor_optimizer.zero_grad() # 在这里就清零了\n",
    "        self.critic_optimizer.zero_grad() # 在这里就清零了\n",
    "        actor_loss.backward()\n",
    "        critic_loss.backward()\n",
    "        self.actor_optimizer.step()\n",
    "        self.critic_optimizer.step()\n",
    "\n",
    "    def save(self, path):\n",
    "        torch.save(self.policy_net.state_dict(), path)"
   ]
  },
  {
   "cell_type": "code",
   "execution_count": 107,
   "metadata": {},
   "outputs": [],
   "source": [
    "lr = 1e-4\n",
    "\n",
    "num_episodes = 10000\n",
    "hidden_dim = 12\n",
    "gamma = 0.90\n",
    "device = torch.device(\"cuda\" if torch.cuda.is_available() else \"cpu\")\n",
    "random.seed(0)\n",
    "np.random.seed(0)\n",
    "torch.manual_seed(0)\n",
    "state_dim = 2\n",
    "action_dim = 5\n",
    "hidden_dim = 32\n",
    "\n",
    "agent = ActorCritic(\n",
    "    state_dim,\n",
    "    action_dim,\n",
    "    hidden_dim,\n",
    "    lr,\n",
    "    lr,\n",
    "    gamma,\n",
    "    device,\n",
    ")"
   ]
  },
  {
   "cell_type": "code",
   "execution_count": 108,
   "metadata": {},
   "outputs": [
    {
     "name": "stdout",
     "output_type": "stream",
     "text": [
      "episode: 0, value: -5.0\n",
      "episode: 30, value: -6.0\n",
      "episode: 60, value: -7.0\n",
      "episode: 90, value: -14.0\n",
      "episode: 120, value: -14.0\n",
      "episode: 150, value: -37.0\n",
      "episode: 180, value: -36.0\n",
      "episode: 210, value: -9.0\n",
      "episode: 240, value: -33.0\n",
      "episode: 270, value: -5.0\n",
      "episode: 300, value: -19.0\n",
      "episode: 330, value: -8.0\n",
      "episode: 360, value: -7.0\n",
      "episode: 390, value: -36.0\n",
      "episode: 420, value: -135.0\n",
      "episode: 450, value: -45.0\n",
      "episode: 480, value: -46.0\n",
      "episode: 510, value: -57.0\n",
      "episode: 540, value: -10.0\n",
      "episode: 570, value: -55.0\n",
      "episode: 600, value: -12.0\n",
      "episode: 630, value: -87.0\n",
      "episode: 660, value: -11.0\n",
      "episode: 690, value: -154.0\n",
      "episode: 720, value: -44.0\n",
      "episode: 750, value: -7.0\n",
      "episode: 780, value: -105.0\n",
      "episode: 810, value: -74.0\n",
      "episode: 840, value: -22.0\n",
      "episode: 870, value: -2.0\n",
      "episode: 900, value: -123.0\n",
      "episode: 930, value: -33.0\n",
      "episode: 960, value: -203.0\n",
      "episode: 990, value: -147.0\n"
     ]
    },
    {
     "ename": "KeyboardInterrupt",
     "evalue": "",
     "output_type": "error",
     "traceback": [
      "\u001b[0;31m---------------------------------------------------------------------------\u001b[0m",
      "\u001b[0;31mKeyboardInterrupt\u001b[0m                         Traceback (most recent call last)",
      "Cell \u001b[0;32mIn[108], line 15\u001b[0m\n\u001b[1;32m      6\u001b[0m transiton_dict \u001b[38;5;241m=\u001b[39m {\n\u001b[1;32m      7\u001b[0m             \u001b[38;5;124m\"\u001b[39m\u001b[38;5;124mstates\u001b[39m\u001b[38;5;124m\"\u001b[39m: [],\n\u001b[1;32m      8\u001b[0m             \u001b[38;5;124m\"\u001b[39m\u001b[38;5;124mactions\u001b[39m\u001b[38;5;124m\"\u001b[39m: [],\n\u001b[0;32m   (...)\u001b[0m\n\u001b[1;32m     11\u001b[0m             \u001b[38;5;124m\"\u001b[39m\u001b[38;5;124mdones\u001b[39m\u001b[38;5;124m\"\u001b[39m: [],\n\u001b[1;32m     12\u001b[0m         }\n\u001b[1;32m     14\u001b[0m \u001b[38;5;28;01mwhile\u001b[39;00m \u001b[38;5;129;01mnot\u001b[39;00m done:\n\u001b[0;32m---> 15\u001b[0m     action \u001b[38;5;241m=\u001b[39m \u001b[43magent\u001b[49m\u001b[38;5;241;43m.\u001b[39;49m\u001b[43mtake_action\u001b[49m\u001b[43m(\u001b[49m\u001b[43mstate\u001b[49m\u001b[43m)\u001b[49m\n\u001b[1;32m     16\u001b[0m     next_state, reward, done \u001b[38;5;241m=\u001b[39m gridworld\u001b[38;5;241m.\u001b[39mstep(state, action)\n\u001b[1;32m     17\u001b[0m     transiton_dict[\u001b[38;5;124m\"\u001b[39m\u001b[38;5;124mstates\u001b[39m\u001b[38;5;124m\"\u001b[39m]\u001b[38;5;241m.\u001b[39mappend(state)\n",
      "Cell \u001b[0;32mIn[106], line 24\u001b[0m, in \u001b[0;36mActorCritic.take_action\u001b[0;34m(self, state)\u001b[0m\n\u001b[1;32m     22\u001b[0m state \u001b[38;5;241m=\u001b[39m torch\u001b[38;5;241m.\u001b[39mtensor([state], dtype\u001b[38;5;241m=\u001b[39mtorch\u001b[38;5;241m.\u001b[39mfloat32)\u001b[38;5;241m.\u001b[39mto(\u001b[38;5;28mself\u001b[39m\u001b[38;5;241m.\u001b[39mdevice)\n\u001b[1;32m     23\u001b[0m probs \u001b[38;5;241m=\u001b[39m \u001b[38;5;28mself\u001b[39m\u001b[38;5;241m.\u001b[39mpolicy_net(state)\n\u001b[0;32m---> 24\u001b[0m action_dist  \u001b[38;5;241m=\u001b[39m \u001b[43mtorch\u001b[49m\u001b[38;5;241;43m.\u001b[39;49m\u001b[43mdistributions\u001b[49m\u001b[38;5;241;43m.\u001b[39;49m\u001b[43mCategorical\u001b[49m\u001b[43m(\u001b[49m\u001b[43mprobs\u001b[49m\u001b[43m)\u001b[49m\n\u001b[1;32m     25\u001b[0m action \u001b[38;5;241m=\u001b[39m action_dist\u001b[38;5;241m.\u001b[39msample()\n\u001b[1;32m     26\u001b[0m \u001b[38;5;28;01mreturn\u001b[39;00m action\u001b[38;5;241m.\u001b[39mitem()\n",
      "File \u001b[0;32m/opt/homebrew/Caskroom/miniconda/base/envs/rl/lib/python3.10/site-packages/torch/distributions/categorical.py:71\u001b[0m, in \u001b[0;36mCategorical.__init__\u001b[0;34m(self, probs, logits, validate_args)\u001b[0m\n\u001b[1;32m     67\u001b[0m \u001b[38;5;28mself\u001b[39m\u001b[38;5;241m.\u001b[39m_num_events \u001b[38;5;241m=\u001b[39m \u001b[38;5;28mself\u001b[39m\u001b[38;5;241m.\u001b[39m_param\u001b[38;5;241m.\u001b[39msize()[\u001b[38;5;241m-\u001b[39m\u001b[38;5;241m1\u001b[39m]\n\u001b[1;32m     68\u001b[0m batch_shape \u001b[38;5;241m=\u001b[39m (\n\u001b[1;32m     69\u001b[0m     \u001b[38;5;28mself\u001b[39m\u001b[38;5;241m.\u001b[39m_param\u001b[38;5;241m.\u001b[39msize()[:\u001b[38;5;241m-\u001b[39m\u001b[38;5;241m1\u001b[39m] \u001b[38;5;28;01mif\u001b[39;00m \u001b[38;5;28mself\u001b[39m\u001b[38;5;241m.\u001b[39m_param\u001b[38;5;241m.\u001b[39mndimension() \u001b[38;5;241m>\u001b[39m \u001b[38;5;241m1\u001b[39m \u001b[38;5;28;01melse\u001b[39;00m torch\u001b[38;5;241m.\u001b[39mSize()\n\u001b[1;32m     70\u001b[0m )\n\u001b[0;32m---> 71\u001b[0m \u001b[38;5;28;43msuper\u001b[39;49m\u001b[43m(\u001b[49m\u001b[43m)\u001b[49m\u001b[38;5;241;43m.\u001b[39;49m\u001b[38;5;21;43m__init__\u001b[39;49m\u001b[43m(\u001b[49m\u001b[43mbatch_shape\u001b[49m\u001b[43m,\u001b[49m\u001b[43m \u001b[49m\u001b[43mvalidate_args\u001b[49m\u001b[38;5;241;43m=\u001b[39;49m\u001b[43mvalidate_args\u001b[49m\u001b[43m)\u001b[49m\n",
      "File \u001b[0;32m/opt/homebrew/Caskroom/miniconda/base/envs/rl/lib/python3.10/site-packages/torch/distributions/distribution.py:68\u001b[0m, in \u001b[0;36mDistribution.__init__\u001b[0;34m(self, batch_shape, event_shape, validate_args)\u001b[0m\n\u001b[1;32m     66\u001b[0m     \u001b[38;5;28;01mcontinue\u001b[39;00m  \u001b[38;5;66;03m# skip checking lazily-constructed args\u001b[39;00m\n\u001b[1;32m     67\u001b[0m value \u001b[38;5;241m=\u001b[39m \u001b[38;5;28mgetattr\u001b[39m(\u001b[38;5;28mself\u001b[39m, param)\n\u001b[0;32m---> 68\u001b[0m valid \u001b[38;5;241m=\u001b[39m \u001b[43mconstraint\u001b[49m\u001b[38;5;241;43m.\u001b[39;49m\u001b[43mcheck\u001b[49m\u001b[43m(\u001b[49m\u001b[43mvalue\u001b[49m\u001b[43m)\u001b[49m\n\u001b[1;32m     69\u001b[0m \u001b[38;5;28;01mif\u001b[39;00m \u001b[38;5;129;01mnot\u001b[39;00m valid\u001b[38;5;241m.\u001b[39mall():\n\u001b[1;32m     70\u001b[0m     \u001b[38;5;28;01mraise\u001b[39;00m \u001b[38;5;167;01mValueError\u001b[39;00m(\n\u001b[1;32m     71\u001b[0m         \u001b[38;5;124mf\u001b[39m\u001b[38;5;124m\"\u001b[39m\u001b[38;5;124mExpected parameter \u001b[39m\u001b[38;5;132;01m{\u001b[39;00mparam\u001b[38;5;132;01m}\u001b[39;00m\u001b[38;5;124m \u001b[39m\u001b[38;5;124m\"\u001b[39m\n\u001b[1;32m     72\u001b[0m         \u001b[38;5;124mf\u001b[39m\u001b[38;5;124m\"\u001b[39m\u001b[38;5;124m(\u001b[39m\u001b[38;5;132;01m{\u001b[39;00m\u001b[38;5;28mtype\u001b[39m(value)\u001b[38;5;241m.\u001b[39m\u001b[38;5;18m__name__\u001b[39m\u001b[38;5;132;01m}\u001b[39;00m\u001b[38;5;124m of shape \u001b[39m\u001b[38;5;132;01m{\u001b[39;00m\u001b[38;5;28mtuple\u001b[39m(value\u001b[38;5;241m.\u001b[39mshape)\u001b[38;5;132;01m}\u001b[39;00m\u001b[38;5;124m) \u001b[39m\u001b[38;5;124m\"\u001b[39m\n\u001b[0;32m   (...)\u001b[0m\n\u001b[1;32m     75\u001b[0m         \u001b[38;5;124mf\u001b[39m\u001b[38;5;124m\"\u001b[39m\u001b[38;5;124mbut found invalid values:\u001b[39m\u001b[38;5;130;01m\\n\u001b[39;00m\u001b[38;5;132;01m{\u001b[39;00mvalue\u001b[38;5;132;01m}\u001b[39;00m\u001b[38;5;124m\"\u001b[39m\n\u001b[1;32m     76\u001b[0m     )\n",
      "\u001b[0;31mKeyboardInterrupt\u001b[0m: "
     ]
    }
   ],
   "source": [
    "max_v = -100\n",
    "for i in range(num_episodes):\n",
    "    state = gridworld.reset((0,0))\n",
    "    done = False\n",
    "    episode_reward = 0\n",
    "    transiton_dict = {\n",
    "                \"states\": [],\n",
    "                \"actions\": [],\n",
    "                \"rewards\": [],\n",
    "                \"next_states\": [],\n",
    "                \"dones\": [],\n",
    "            }\n",
    "\n",
    "    while not done:\n",
    "        action = agent.take_action(state)\n",
    "        next_state, reward, done = gridworld.step(state, action)\n",
    "        transiton_dict[\"states\"].append(state)\n",
    "        transiton_dict[\"actions\"].append(action)\n",
    "        transiton_dict[\"next_states\"].append(next_state)\n",
    "        transiton_dict[\"rewards\"].append(reward)\n",
    "        transiton_dict[\"dones\"].append(done)\n",
    "        state = next_state\n",
    "        episode_reward += reward\n",
    "\n",
    "    agent.update(transiton_dict)\n",
    "    if episode_reward >= max_v:\n",
    "        agent.save(\"model.pth\")\n",
    "        max_v = episode_reward\n",
    "    if i % 30 == 0:\n",
    "        print(f\"episode: {i}, value: {episode_reward}\")"
   ]
  },
  {
   "cell_type": "code",
   "execution_count": 80,
   "metadata": {},
   "outputs": [
    {
     "name": "stdout",
     "output_type": "stream",
     "text": [
      "torch.Size([25, 5])\n",
      "[[[1.19295483e-02 1.19295483e-02 1.19295483e-02 1.19617246e-02\n",
      "   9.52249646e-01]\n",
      "  [2.45269779e-02 2.45269779e-02 2.45269779e-02 1.74963832e-01\n",
      "   7.51455188e-01]\n",
      "  [1.48416767e-02 1.48416767e-02 1.48416767e-02 6.46645486e-01\n",
      "   3.08829486e-01]\n",
      "  [4.12431872e-03 4.12431872e-03 4.12431872e-03 8.64883602e-01\n",
      "   1.22743428e-01]\n",
      "  [9.66008694e-04 9.66008694e-04 9.66008694e-04 9.46236908e-01\n",
      "   5.08650094e-02]]\n",
      "\n",
      " [[4.37920764e-02 3.27090696e-02 3.27090696e-02 3.27090696e-02\n",
      "   8.58080685e-01]\n",
      "  [6.72020018e-02 6.72020018e-02 6.72020018e-02 3.11558336e-01\n",
      "   4.86835659e-01]\n",
      "  [2.59167608e-02 2.59167608e-02 2.59167608e-02 7.63620913e-01\n",
      "   1.58628881e-01]\n",
      "  [6.67767320e-03 6.67767320e-03 6.67767320e-03 9.11589324e-01\n",
      "   6.83777034e-02]\n",
      "  [1.52096350e-03 1.52096350e-03 1.52096350e-03 9.65133905e-01\n",
      "   3.03031858e-02]]\n",
      "\n",
      " [[1.85867518e-01 5.42221554e-02 5.42221554e-02 5.42221554e-02\n",
      "   6.51466072e-01]\n",
      "  [2.71935552e-01 9.95821878e-02 9.95821878e-02 2.63574690e-01\n",
      "   2.65325367e-01]\n",
      "  [6.72901124e-02 4.50679250e-02 4.50679250e-02 7.43928134e-01\n",
      "   9.86459330e-02]\n",
      "  [1.07611064e-02 1.05887046e-02 1.05887046e-02 9.26192641e-01\n",
      "   4.18688171e-02]\n",
      "  [2.38229916e-03 2.38229916e-03 2.38229916e-03 9.73024309e-01\n",
      "   1.98287349e-02]]\n",
      "\n",
      " [[4.90898430e-01 5.62497340e-02 5.62497340e-02 5.62497340e-02\n",
      "   3.40352386e-01]\n",
      "  [5.26803374e-01 8.93844664e-02 8.93844664e-02 1.35247648e-01\n",
      "   1.59180045e-01]\n",
      "  [2.15359360e-01 6.60889745e-02 6.60889745e-02 5.52228808e-01\n",
      "   1.00233935e-01]\n",
      "  [2.84304451e-02 1.63045526e-02 1.63045526e-02 9.07454371e-01\n",
      "   3.15061361e-02]\n",
      "  [4.65415558e-03 3.74385505e-03 3.74385505e-03 9.73803580e-01\n",
      "   1.40545545e-02]]\n",
      "\n",
      " [[7.00703979e-01 3.82339470e-02 3.82339470e-02 3.82339470e-02\n",
      "   1.84594169e-01]\n",
      "  [7.00245082e-01 6.24442101e-02 6.24442101e-02 6.33400306e-02\n",
      "   1.11526489e-01]\n",
      "  [4.82017756e-01 6.86418787e-02 6.86418787e-02 3.06137234e-01\n",
      "   7.45612532e-02]\n",
      "  [1.12186946e-01 3.01795378e-02 3.01795378e-02 7.90756702e-01\n",
      "   3.66973132e-02]\n",
      "  [1.17858248e-02 5.57794608e-03 5.57794608e-03 9.65882003e-01\n",
      "   1.11762313e-02]]]\n"
     ]
    },
    {
     "name": "stderr",
     "output_type": "stream",
     "text": [
      "/var/folders/j6/x5g6fdss0lx3bjtvj9_5cmwh0000gn/T/ipykernel_26200/1436956871.py:4: FutureWarning: You are using `torch.load` with `weights_only=False` (the current default value), which uses the default pickle module implicitly. It is possible to construct malicious pickle data which will execute arbitrary code during unpickling (See https://github.com/pytorch/pytorch/blob/main/SECURITY.md#untrusted-models for more details). In a future release, the default value for `weights_only` will be flipped to `True`. This limits the functions that could be executed during unpickling. Arbitrary objects will no longer be allowed to be loaded via this mode unless they are explicitly allowlisted by the user via `torch.serialization.add_safe_globals`. We recommend you start setting `weights_only=True` for any use case where you don't have full control of the loaded file. Please open an issue on GitHub for any issues related to this experimental feature.\n",
      "  best_net.load_state_dict(torch.load(\"model.pth\"))\n",
      "/var/folders/j6/x5g6fdss0lx3bjtvj9_5cmwh0000gn/T/ipykernel_26200/1436956871.py:8: DeprecationWarning: __array__ implementation doesn't accept a copy keyword, so passing copy=False failed. __array__ must implement 'dtype' and 'copy' keyword arguments.\n",
      "  q_tables = np.array(q_tables).reshape(rows, columns, action_dim)\n"
     ]
    },
    {
     "data": {
      "image/png": "[encoded data removed]",
      "text/plain": [
       "<Figure size 350x350 with 1 Axes>"
      ]
     },
     "metadata": {},
     "output_type": "display_data"
    }
   ],
   "source": [
    "gridworld_idx = [(i, j) for i in range(rows) for j in range(columns)]\n",
    "gridworld_idx =  torch.tensor(gridworld_idx,dtype=torch.float32)\n",
    "best_net = PolicyNet(state_dim, action_dim).to(device)\n",
    "best_net.load_state_dict(torch.load(\"model.pth\"))\n",
    "with torch.no_grad():\n",
    "    q_tables =best_net(gridworld_idx)\n",
    "    print(q_tables.shape)\n",
    "    q_tables = np.array(q_tables).reshape(rows, columns, action_dim)\n",
    "# print(f\"q_tables_shape:{q_tables.shape}\")\n",
    "print(q_tables)\n",
    "policy = np.argmax(q_tables, axis=2)\n",
    "gridworld.show_policy(policy)"
   ]
  }
 ],
 "metadata": {
  "kernelspec": {
   "display_name": "rl",
   "language": "python",
   "name": "python3"
  },
  "language_info": {
   "codemirror_mode": {
    "name": "ipython",
    "version": 3
   },
   "file_extension": ".py",
   "mimetype": "text/x-python",
   "name": "python",
   "nbconvert_exporter": "python",
   "pygments_lexer": "ipython3",
   "version": "3.10.14"
  }
 },
 "nbformat": 4,
 "nbformat_minor": 2
}
