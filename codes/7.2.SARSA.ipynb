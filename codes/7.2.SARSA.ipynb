{
 "cells": [
  {
   "cell_type": "code",
   "execution_count": 43,
   "id": "8b4ab64a-c1b6-4247-bb4b-9c72ebf63778",
   "metadata": {},
   "outputs": [],
   "source": [
    "import numpy as np     #只需要下载numpy库即可\n",
    "import random\n",
    "import GridWorld_v2\n",
    "import time\n",
    "from IPython.display import clear_output"
   ]
  },
  {
   "cell_type": "code",
   "execution_count": 44,
   "id": "ad418bf1-1806-4c6d-830a-498b9c371405",
   "metadata": {},
   "outputs": [
    {
     "data": {
      "image/png": "[encoded data removed]",
      "text/plain": [
       "<Figure size 350x350 with 1 Axes>"
      ]
     },
     "metadata": {},
     "output_type": "display_data"
    }
   ],
   "source": [
    "rows = 5      #记得行数和列数这里要同步改\n",
    "columns = 5\n",
    "gridworld = GridWorld_v2.GridWorld_v2(forbidden_area_score=-10, score=1,desc = [\".....\",\".##..\",\"..#..\",\".#T#.\",\".#...\"]) \n",
    "gridworld.show()"
   ]
  },
  {
   "cell_type": "code",
   "execution_count": 45,
   "id": "93b9a46e",
   "metadata": {},
   "outputs": [],
   "source": [
    "value = np.zeros(rows*columns).reshape(rows,columns)       #初始化可以任意，也可以全0\n",
    "q_table = np.zeros((rows*columns,5)).reshape(rows,columns,5)  #初始化，这里主要是初始化维数，里面的内容会被覆盖所以无所谓"
   ]
  },
  {
   "cell_type": "code",
   "execution_count": 46,
   "id": "6e9c1ab4",
   "metadata": {},
   "outputs": [],
   "source": [
    "def take_action(state,epsilon):\n",
    "    if np.random.random() < epsilon:\n",
    "        action = np.random.randint(0,5)\n",
    "    else:\n",
    "        action = np.argmax(q_table[state[0],state[1]])\n",
    "    return action"
   ]
  },
  {
   "cell_type": "code",
   "execution_count": 47,
   "id": "25906946-b972-4f9c-a97a-7671c77aa710",
   "metadata": {},
   "outputs": [],
   "source": [
    "def SARSA(gridworld:GridWorld_v2.GridWorld_v2,gamma = 0.99,trajectorySteps=-1, learning_rate=0.001, final_epsilon=0.01, num_episodes=600)->GridWorld_v2.GridWorld_v2:\n",
    "    \"\"\"\n",
    "    这是最基础的SARSA算法\n",
    "\n",
    "    Parameters:\n",
    "    trajectorySteps (int): 寻路的轨迹长度，如果是-1，则为寻到目的则停止，否则参数即为trajectory长度\n",
    "    learning_rate (float): 学习率，用于调节TD-target\n",
    "    epsilon (float): epsilon-greedy的核心参数，0~1的浮点数，其中1则表示当前state所有决策概率一样，0则表示决策没有任何的随机性\n",
    "    num_episodes (int): 表示模型迭代次数\n",
    "\n",
    "    Returns:\n",
    "    GridWorld_v2.GridWorld_v2: 把模型返回回去\n",
    "    \"\"\"\n",
    "    \n",
    "    state_value = np.zeros((rows * columns)).reshape(gridworld.rows,gridworld.columns)\n",
    "    # initialize q table\n",
    "    # initialize policy\n",
    "    policy = np.eye(5)[np.random.randint(0,5,size=(rows*columns))].reshape(gridworld.rows,gridworld.columns,5) \n",
    "    epsilon = 0.5\n",
    "    for episode in range(1000):\n",
    "        #清除输出，可以更好的展示策略\n",
    "        print(\"episode\",f\"{episode}/{num_episodes}\")\n",
    "        if(epsilon > final_epsilon) :\n",
    "            epsilon -= 0.001\n",
    "        else:\n",
    "            epsilon = final_epsilon\n",
    "\n",
    "        #cnt数组用来检查每个state有多少次访问\n",
    "        \n",
    "        # initialize state\n",
    "        init_state=(0,0)\n",
    "        init_action=random.randint(0,4)  \n",
    "        print(\"init_state\",init_state)\n",
    "        print(\"init_action\",init_action)\n",
    "        reward = 0\n",
    "        next_state = init_state\n",
    "        next_action = init_action\n",
    "\n",
    "        while(reward != 1):\n",
    "        # get next state and reward\n",
    "\n",
    "            now_state = next_state\n",
    "            now_action = next_action\n",
    "            reward,next_state = gridworld.step(now_state,now_action)\n",
    "            next_action = take_action(next_state,epsilon)\n",
    "            td_target = reward + gamma * (q_table[next_state[0],next_state[1],next_action] )\n",
    "            td_error = q_table[now_state[0],now_state[1],now_action] - td_target\n",
    "            q_table[now_state[0],now_state[1],now_action] -= learning_rate * td_error\n",
    "            if reward == 1:\n",
    "                now_action = 4\n",
    "                now_state = next_state\n",
    "                td_target = 1 + gamma * (q_table[now_state[0],now_state[1],now_action] )\n",
    "                td_error = q_table[now_state[0],now_state[1],now_action] - td_target\n",
    "                q_table[now_state[0],now_state[1],now_action] -= learning_rate * td_error\n",
    "\n",
    "    \n",
    "        policy = q_table.argmax(axis=2)\n",
    "        state_value = np.max(q_table,axis=2)\n",
    "\n",
    "        # print(\"mean_state_value\", mean_state_value)\n",
    "\n",
    "    gridworld.show_policy(policy,step=False)\n",
    "    gridworld.show_value(state_value)\n",
    "    print(state_value.shape)\n",
    "    return q_table\n",
    "    "
   ]
  },
  {
   "cell_type": "code",
   "execution_count": 48,
   "id": "56f4a5d3-6bf7-427c-81a8-638bd18a97b9",
   "metadata": {},
   "outputs": [
    {
     "data": {
      "image/png": "[encoded data removed]",
      "text/plain": [
       "<Figure size 350x350 with 1 Axes>"
      ]
     },
     "metadata": {},
     "output_type": "display_data"
    },
    {
     "data": {
      "image/png": "[encoded data removed]",
      "text/plain": [
       "<Figure size 350x350 with 1 Axes>"
      ]
     },
     "metadata": {},
     "output_type": "display_data"
    },
    {
     "name": "stdout",
     "output_type": "stream",
     "text": [
      "(5, 5)\n"
     ]
    }
   ],
   "source": [
    "action_value = SARSA(gridworld)"
   ]
  }
 ],
 "metadata": {
  "kernelspec": {
   "display_name": "Python 3 (ipykernel)",
   "language": "python",
   "name": "python3"
  },
  "language_info": {
   "codemirror_mode": {
    "name": "ipython",
    "version": 3
   },
   "file_extension": ".py",
   "mimetype": "text/x-python",
   "name": "python",
   "nbconvert_exporter": "python",
   "pygments_lexer": "ipython3",
   "version": "3.11.8"
  }
 },
 "nbformat": 4,
 "nbformat_minor": 5
}
